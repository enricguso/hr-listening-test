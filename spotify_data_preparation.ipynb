{
 "cells": [
  {
   "cell_type": "markdown",
   "id": "3d9b47d2",
   "metadata": {},
   "source": [
    "# Data preparation for harmonic compatibility reordering subjective evaluation\n",
    "Author: Enric Gusó Muñoz, Music Technology Group, Universitat Pompeu Fabra, enric.guso@upf.edu\n",
    "This notebook takes popular playlists from the Spotify Million Playlist Dataset that have audio previews."
   ]
  },
  {
   "cell_type": "code",
   "execution_count": null,
   "id": "4717abd1",
   "metadata": {},
   "outputs": [],
   "source": [
    "from os.path import join as pjoin\n",
    "import os\n",
    "import json\n",
    "import numpy as np\n",
    "from tqdm import tqdm\n",
    "import seaborn as sns\n",
    "import pandas as pd\n",
    "import matplotlib.pyplot as plt\n",
    "import spotipy\n",
    "from spotipy.oauth2 import SpotifyClientCredentials\n",
    "import wget"
   ]
  },
  {
   "cell_type": "code",
   "execution_count": null,
   "id": "347017fd",
   "metadata": {},
   "outputs": [],
   "source": [
    "#Path to Spotify's Million Playlist Dataset\n",
    "data_path = '/home/enricguso/datasets/spotify_million_playlist_dataset'"
   ]
  },
  {
   "cell_type": "markdown",
   "id": "ba15cc27",
   "metadata": {},
   "source": [
    "## Task1 : get top-1000 most popular playlists"
   ]
  },
  {
   "cell_type": "code",
   "execution_count": null,
   "id": "5b200c37",
   "metadata": {},
   "outputs": [],
   "source": [
    "if not os.path.exists('spotify_data'):\n",
    "    os.makedirs('spotify_data')"
   ]
  },
  {
   "cell_type": "code",
   "execution_count": null,
   "id": "3d9c2641",
   "metadata": {},
   "outputs": [],
   "source": [
    "files = os.listdir(pjoin(data_path, 'data'))\n",
    "\n",
    "pids = []\n",
    "num_followers = []\n",
    "for file in tqdm(files):\n",
    "    with open(pjoin(pjoin(data_path, 'data'), file), 'r') as f:\n",
    "        data = json.load(f)\n",
    "    for playlist in data['playlists']:\n",
    "        pids.append(playlist['pid'])\n",
    "        num_followers.append(playlist['num_followers'])\n",
    "pids = np.array(pids)\n",
    "indxs = np.argsort(num_followers)[::-1][:2000]\n",
    "top_pids = pids[indxs]\n",
    "\n",
    "files = np.array(files)\n",
    "files = files[np.argsort(np.array([int(x.split('.')[2].split('-')[0]) for x in files]))]\n",
    "\n",
    "playlists = {}\n",
    "for pid in tqdm(top_pids):\n",
    "    with open(pjoin(pjoin(data_path, 'data'), files[pid // 1000]), 'r') as f:\n",
    "        data = json.load(f)\n",
    "    playlists[str(pid)] = data['playlists'][pid % 1000]"
   ]
  },
  {
   "cell_type": "markdown",
   "id": "6a7abd54",
   "metadata": {},
   "source": [
    "## Filter out songs without audio available"
   ]
  },
  {
   "cell_type": "code",
   "execution_count": null,
   "id": "d6e5a26b",
   "metadata": {},
   "outputs": [],
   "source": [
    "#Authentication -> you need to registar in the Spotify API\n",
    "cid = 'b569f6b9399545fcb0b97e821ac7434f'\n",
    "secret = ''\n",
    "client_credentials_manager = SpotifyClientCredentials(client_id=cid, client_secret=secret)\n",
    "sp = spotipy.Spotify(client_credentials_manager = client_credentials_manager)"
   ]
  },
  {
   "cell_type": "code",
   "execution_count": null,
   "id": "b917e2cd",
   "metadata": {},
   "outputs": [],
   "source": [
    "for playlist in tqdm(playlists):\n",
    "    clutter = []\n",
    "    for i, track in enumerate(playlists[playlist]['tracks']):\n",
    "        try:\n",
    "            if sp.track(track['track_uri'])['preview_url'] is None:\n",
    "                clutter.append(track)\n",
    "        except:\n",
    "            clutter.append(track)\n",
    "    if clutter != []:\n",
    "        for track in clutter:\n",
    "            playlists[playlist]['tracks'].remove(track)"
   ]
  },
  {
   "cell_type": "code",
   "execution_count": null,
   "id": "d9223eff",
   "metadata": {},
   "outputs": [],
   "source": [
    "# Take 1000 tracks with more than 19 tracks\n",
    "new_playlists = {}\n",
    "i=0\n",
    "for playlist in playlists:\n",
    "    if len(playlists[playlist]['tracks']) > 19:\n",
    "        new_playlists[playlist] = playlists[playlist]\n",
    "        i+=1\n",
    "    if i == 1000:\n",
    "        break\n",
    "\n",
    "with open(pjoin('spotify_data', 'top1000_playlists.json'), 'w') as f:\n",
    "    json.dump(new_playlists, f)  \n",
    "len(new_playlists)"
   ]
  },
  {
   "cell_type": "markdown",
   "id": "99c05601",
   "metadata": {},
   "source": [
    "## Download audio for all tracks"
   ]
  },
  {
   "cell_type": "code",
   "execution_count": null,
   "id": "b5a25881",
   "metadata": {},
   "outputs": [],
   "source": [
    "with open(pjoin('spotify_data', 'top1000_playlists.json'), 'r') as f:\n",
    "    playlists = json.load(f) "
   ]
  },
  {
   "cell_type": "code",
   "execution_count": null,
   "id": "ddf0a899",
   "metadata": {
    "scrolled": true
   },
   "outputs": [],
   "source": [
    "errors = []\n",
    "for playlist in tqdm(playlists):\n",
    "    for track in playlists[playlist]['tracks']:\n",
    "        try:\n",
    "            outpath = pjoin(pjoin('spotify_data', 'previews'),sp.track(track['track_uri'])['uri']+'.mp3')\n",
    "            if not os.path.exists(outpath):\n",
    "                wget.download(sp.track(track['track_uri'])['preview_url'], out=outpath, bar=False)\n",
    "        except:\n",
    "            errors.append({\"playlist\": playlist, \"track\": track})\n",
    "print(errors)\n",
    "\n",
    "#retry to download the errors\n",
    "for e in errors:\n",
    "    wget.download(sp.track(track['track_uri'])['preview_url'], out=outpath, bar=False)\n",
    "    del e\n",
    "\n",
    "files = os.listdir(pjoin('spotify_data', 'previews'))\n",
    "\n",
    "sids = [x.split('.')[0] for x in files]\n",
    "\n",
    "with open('spoty_audios.txt', 'w') as f:\n",
    "    for row in ['spotify_data/previews/'+x for x in files]:\n",
    "        f.write(str(row)+'\\n')\n",
    "\n",
    "with open('spoty_sids.txt', 'w') as f:\n",
    "    for row in sids:\n",
    "        f.write(str(row)+'\\n')"
   ]
  },
  {
   "cell_type": "code",
   "execution_count": null,
   "id": "cb275101",
   "metadata": {},
   "outputs": [],
   "source": [
    "# final check that all tracks have their preview:\n",
    "for playlist in tqdm(playlists):\n",
    "    for track in playlists[playlist]['tracks']:\n",
    "        outpath = pjoin(pjoin('spotify_data', 'previews'),track['track_uri']+'.mp3')\n",
    "        if not os.path.exists(outpath):\n",
    "            playlists[playlist]['tracks'].remove(track)"
   ]
  },
  {
   "cell_type": "code",
   "execution_count": null,
   "id": "146e7912",
   "metadata": {},
   "outputs": [],
   "source": [
    "# Save\n",
    "with open(pjoin('spotify_data', 'top1000_playlists.json'), 'w') as f:\n",
    "    json.dump(playlists, f)"
   ]
  }
 ],
 "metadata": {
  "kernelspec": {
   "display_name": "harmonic",
   "language": "python",
   "name": "harmonic"
  },
  "language_info": {
   "codemirror_mode": {
    "name": "ipython",
    "version": 3
   },
   "file_extension": ".py",
   "mimetype": "text/x-python",
   "name": "python",
   "nbconvert_exporter": "python",
   "pygments_lexer": "ipython3",
   "version": "3.9.1"
  }
 },
 "nbformat": 4,
 "nbformat_minor": 5
}
