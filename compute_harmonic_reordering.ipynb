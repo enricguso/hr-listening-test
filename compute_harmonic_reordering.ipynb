{
 "cells": [
  {
   "cell_type": "code",
   "execution_count": 1,
   "id": "9e1acdcf",
   "metadata": {},
   "outputs": [],
   "source": [
    "import numpy as np\n",
    "import json\n",
    "import os\n",
    "from python_tsp.heuristics import solve_tsp_local_search, solve_tsp_simulated_annealing\n",
    "from python_tsp.exact import solve_tsp_dynamic_programming\n",
    "from time import time\n",
    "from os.path import join as pjoin\n",
    "from tivlib import TIV\n",
    "from utils.ph_harm import *\n",
    "from tqdm import tqdm\n",
    "import random\n",
    "import spotipy\n",
    "from spotipy.oauth2 import SpotifyClientCredentials\n"
   ]
  },
  {
   "cell_type": "code",
   "execution_count": 2,
   "id": "5303f5f5",
   "metadata": {},
   "outputs": [],
   "source": [
    "# we load harmonic features and generate a playlist from it\n",
    "hpcp = np.load('spoty_hpcps.npy')\n",
    "with open('spoty_hfeats.json', 'r') as f:\n",
    "    HFEATS = json.load(f)\n",
    "for i, item in enumerate(HFEATS):\n",
    "    HFEATS[item]['hpcp'] = hpcp[i]  \n",
    "\n",
    "with open('top1000_playlists.json', 'r') as f:\n",
    "    playlists = json.load(f)"
   ]
  },
  {
   "cell_type": "markdown",
   "id": "7f000854",
   "metadata": {},
   "source": [
    "# Harmonic compatibility distances"
   ]
  },
  {
   "cell_type": "code",
   "execution_count": 3,
   "id": "43d1a829",
   "metadata": {},
   "outputs": [],
   "source": [
    "# Valid transitions in the circle of fifths (plus the enharmonics):\n",
    "CIRCLE_TRANSITIONS = {'Cmajor': ['Cmajor', 'Aminor', 'Fmajor', 'Gmajor'],\n",
    "               'Gmajor': ['Gmajor', 'Dmajor', 'Cmajor', 'Eminor'],               \n",
    "               'Dmajor': ['Dmajor', 'Amajor', 'Gmajor', 'Bminor'],               \n",
    "               'Amajor': ['Amajor', 'Dmajor', 'Emajor', 'F#minor'],              \n",
    "               'Emajor': ['Emajor', 'Amajor', 'Bmajor', 'Cbmajor', 'C#minor'],            \n",
    "               'Bmajor': ['Bmajor', 'Cbmajor', 'Emajor', 'F#major', 'Gbmajor', 'G#minor', 'Abminor'],\n",
    "               'Cbmajor': ['Bmajor', 'Cbmajor', 'Emajor', 'F#major', 'Gbmajor', 'G#minor', 'Abminor'],\n",
    "               'F#major': ['F#major', 'Gbmajor', 'Bmajor', 'Cbmajor', 'Dbmajor', 'C#major', 'D#minor', 'Ebminor'],\n",
    "               'Gbmajor': ['Gbmajor', 'F#major', 'Bmajor', 'Cbmajor', 'Dbmajor', 'C#major', 'D#minor', 'Ebminor'],               \n",
    "               'C#major': ['C#major', 'Dbmajor', 'F#major', 'Gbmajor', 'Abmajor', 'Bbminor', 'A#minor'],\n",
    "               'Dbmajor': ['Dbmajor', 'C#major', 'F#major', 'Gbmajor', 'Abmajor', 'Bbminor', 'A#minor'],             \n",
    "               'Abmajor': ['Abmajor', 'Dbmajor', 'C#major', 'Ebmajor', 'Fminor'],               \n",
    "               'Ebmajor': ['Ebmajor', 'Abmajor', 'Bbmajor', 'Cminor'],\n",
    "               'Bbmajor': ['Bbmajor', 'Ebmajor', 'Fmajor', 'Gminor'],  \n",
    "               'Fmajor': ['Fmajor', 'Bbmajor', 'Cmajor', 'Dminor'],               \n",
    "               'Aminor': ['Aminor', 'Eminor', 'Dminor', 'Cmajor'],               \n",
    "               'Eminor': ['Eminor', 'Bminor', 'Aminor', 'Gmajor'],              \n",
    "               'Bminor': ['Bminor', 'F#minor', 'Eminor', 'Dmajor'],               \n",
    "               'F#minor': ['F#minor', 'C#minor', 'Bminor', 'Amajor'],               \n",
    "               'C#minor': ['C#minor', 'F#minor', 'Abminor', 'G#minor', 'Emajor'],               \n",
    "               'G#minor': ['G#minor', 'Abminor', 'C#minor', 'Ebminor', 'D#minor', 'Bmajor', 'Cbmajor'],\n",
    "               'Abminor': ['Abminor', 'G#minor', 'C#minor', 'Ebminor', 'D#minor', 'Bmajor', 'Cbmajor'],              \n",
    "               'D#minor': ['D#minor', 'Ebminor', 'Abminor', 'G#minor', 'Bbminor', 'A#minor', 'F#major', 'Gbmajor'],\n",
    "               'Ebminor': ['Ebminor', 'D#minor', 'Abminor', 'G#minor', 'Bbminor', 'A#minor', 'F#major', 'Gbmajor'],               \n",
    "               'A#minor': ['A#minor', 'Bbminor', 'Ebminor', 'D#minor', 'Fminor', 'Dbmajor', 'C#major'],\n",
    "               'Bbminor': ['Bbminor', 'A#minor', 'Ebminor', 'D#minor', 'Fminor', 'Dbmajor', 'C#major'],               \n",
    "               'Dminor': ['Dminor', 'Aminor', 'Gminor', 'Fmajor'],               \n",
    "               'Gminor': ['Gminor', 'Dminor', 'Cminor', 'Bbmajor'],               \n",
    "               'Cminor': ['Cminor', 'Gminor', 'Fminor', 'Ebmajor'],\n",
    "               'Fminor': ['Fminor', 'Bbminor', 'A#minor', 'Cminor', 'Abmajor']}"
   ]
  },
  {
   "cell_type": "code",
   "execution_count": 4,
   "id": "94d3eb01",
   "metadata": {},
   "outputs": [],
   "source": [
    "# coordinates on the circle of fifths:\n",
    "maj_keys = ['Cmajor', 'Gmajor', 'Dmajor', 'Amajor', 'Emajor', 'Bmajor', 'F#major', 'C#major', 'Abmajor',\n",
    " 'Ebmajor', 'Bbmajor', 'Fmajor']\n",
    "min_keys = ['Aminor', 'Eminor', 'Bminor', 'F#minor', 'C#minor', 'G#minor', 'D#minor', 'A#minor', 'Fminor',\n",
    " 'Cminor', 'Gminor', 'Dminor']\n",
    "\n",
    "l = 3.863708 # radius of the circle. this value makes vertical and horizontal translation the same\n",
    "l = l*2\n",
    "h = 2. # distance between adjacent keys\n",
    "h = h * 2\n",
    "CIRCLE_COORDINATE = {}\n",
    "for i, key in enumerate(maj_keys):\n",
    "    x = l * np.cos((np.pi * i) / 6)\n",
    "    y = l * np.sin((np.pi * i) / 6)\n",
    "    z = 0.\n",
    "    CIRCLE_COORDINATE[key] = np.array([x,y,z])\n",
    "for i, key in enumerate(min_keys):\n",
    "    x = l * np.cos((np.pi * i) / 6)\n",
    "    y = l * np.sin((np.pi * i) / 6)\n",
    "    z = h\n",
    "    CIRCLE_COORDINATE[key] = np.array([x,y,z])   \n",
    "#and we add the enharmonic equivalents\n",
    "CIRCLE_COORDINATE['Cbmajor'] = CIRCLE_COORDINATE['Bmajor']\n",
    "CIRCLE_COORDINATE['Gbmajor'] = CIRCLE_COORDINATE['F#major']\n",
    "CIRCLE_COORDINATE['Dbmajor'] = CIRCLE_COORDINATE['C#major']\n",
    "CIRCLE_COORDINATE['Abminor'] = CIRCLE_COORDINATE['G#minor']\n",
    "CIRCLE_COORDINATE['Ebminor'] = CIRCLE_COORDINATE['D#minor']\n",
    "CIRCLE_COORDINATE['Bbminor'] = CIRCLE_COORDINATE['A#minor']"
   ]
  },
  {
   "cell_type": "markdown",
   "id": "be6ef274",
   "metadata": {},
   "source": [
    "# Filling distance matrixes as required by python_tsp"
   ]
  },
  {
   "cell_type": "markdown",
   "id": "a20b28bb",
   "metadata": {},
   "source": [
    "### Diversity metrics (not used in the evaluation)"
   ]
  },
  {
   "cell_type": "code",
   "execution_count": 5,
   "id": "fbbb35e9",
   "metadata": {},
   "outputs": [],
   "source": [
    "def diver_binary(playlist):\n",
    "    distance_matrix = np.full((len(playlist['tracks']), len(playlist['tracks'])), None)\n",
    "    for i, current_song in enumerate(playlist['tracks']):\n",
    "        for j, next_song in enumerate(playlist['tracks']):\n",
    "            if distance_matrix[i,j] is None:\n",
    "                current_uri = playlist['tracks'][i]['track_uri']\n",
    "                next_uri = playlist['tracks'][j]['track_uri']\n",
    "                current_key = HFEATS[current_uri]['key']\n",
    "                next_key = HFEATS[next_uri]['key']\n",
    "                if next_key != current_key:\n",
    "                    distance_matrix[i,j] = 0\n",
    "                else:\n",
    "                    distance_matrix[i,j] = 1\n",
    "                    distance_matrix[j,i] = distance_matrix[i,j]\n",
    "    distance_matrix[:, 0] = 0\n",
    "    return distance_matrix"
   ]
  },
  {
   "cell_type": "code",
   "execution_count": 6,
   "id": "531a9fa1",
   "metadata": {},
   "outputs": [],
   "source": [
    "def cosine_similarity(x, y):\n",
    "    return np.dot(x, y) / (np.sqrt(np.dot(x, x)) * np.sqrt(np.dot(y, y)))"
   ]
  },
  {
   "cell_type": "code",
   "execution_count": 7,
   "id": "349f2778",
   "metadata": {},
   "outputs": [],
   "source": [
    "def diver_hpcp(playlist):\n",
    "    distance_matrix = np.full((len(playlist['tracks']), len(playlist['tracks'])), None)\n",
    "    for i, current_song in enumerate(playlist['tracks']):\n",
    "        for j, next_song in enumerate(playlist['tracks']):\n",
    "            if distance_matrix[i,j] is None:\n",
    "                current_uri = playlist['tracks'][i]['track_uri']\n",
    "                next_uri = playlist['tracks'][j]['track_uri']\n",
    "                current_hpcp = HFEATS[current_uri]['hpcp']\n",
    "                next_hpcp = HFEATS[next_uri]['hpcp']\n",
    "                distance_matrix[i,j] = cosine_similarity(current_hpcp, next_hpcp)\n",
    "                distance_matrix[j,i] = distance_matrix[i,j] \n",
    "    distance_matrix[:, 0] = 0\n",
    "    return distance_matrix"
   ]
  },
  {
   "cell_type": "markdown",
   "id": "e82e86bc",
   "metadata": {},
   "source": [
    "### Compatibility distances"
   ]
  },
  {
   "cell_type": "code",
   "execution_count": 8,
   "id": "cb97bb48",
   "metadata": {},
   "outputs": [],
   "source": [
    "def comp_binary(playlist):\n",
    "    #Binary method.\n",
    "    #Adjacent boxes in the circle of fiths transitions have 0 cost, 1 otherwise\n",
    "    distance_matrix = np.full((len(playlist['tracks']), len(playlist['tracks'])), None)\n",
    "    for i, current_song in enumerate(playlist['tracks']):\n",
    "        for j, next_song in enumerate(playlist['tracks']):\n",
    "            if distance_matrix[i,j] is None:\n",
    "                current_uri = playlist['tracks'][i]['track_uri']\n",
    "                next_uri = playlist['tracks'][j]['track_uri']\n",
    "                current_key = HFEATS[current_uri]['key']\n",
    "                next_key = HFEATS[next_uri]['key']\n",
    "                if next_key in CIRCLE_TRANSITIONS[current_key]:\n",
    "                    distance_matrix[i,j] = 0\n",
    "                else:\n",
    "                    distance_matrix[i,j] = 1\n",
    "                distance_matrix[j,i] = distance_matrix[i,j]  \n",
    "    distance_matrix[:, 0] = 0\n",
    "    return distance_matrix"
   ]
  },
  {
   "cell_type": "code",
   "execution_count": 9,
   "id": "c93041fc",
   "metadata": {},
   "outputs": [],
   "source": [
    "def comp_circle(playlist):\n",
    "    #Circle method\n",
    "    #Euclidean distance on the coordinates of the circle of fifths in R3\n",
    "    distance_matrix = np.full((len(playlist['tracks']), len(playlist['tracks'])), None)\n",
    "    for i, current_song in enumerate(playlist['tracks']):\n",
    "        for j, next_song in enumerate(playlist['tracks']):\n",
    "            if distance_matrix[i,j] is None:\n",
    "                current_uri = playlist['tracks'][i]['track_uri']\n",
    "                next_uri = playlist['tracks'][j]['track_uri']\n",
    "                current_key = HFEATS[current_uri]['key']\n",
    "                next_key = HFEATS[next_uri]['key']\n",
    "                current_coordinate = CIRCLE_COORDINATE[current_key]\n",
    "                next_coordinate = CIRCLE_COORDINATE[next_key]\n",
    "                distance_matrix[i,j] = np.linalg.norm(current_coordinate-next_coordinate)\n",
    "                distance_matrix[j,i] = distance_matrix[i,j]\n",
    "    distance_matrix[:, 0] = 0\n",
    "    return distance_matrix"
   ]
  },
  {
   "cell_type": "code",
   "execution_count": 10,
   "id": "e078d317",
   "metadata": {},
   "outputs": [],
   "source": [
    "def comp_TIV(playlist):\n",
    "    # TIV method\n",
    "    # use TIVlib small_scale_compatibility\n",
    "    distance_matrix = np.full((len(playlist['tracks']), len(playlist['tracks'])), None)\n",
    "    for i, current_song in enumerate(playlist['tracks']):\n",
    "        for j, next_song in enumerate(playlist['tracks']):\n",
    "            if distance_matrix[i,j] is None:\n",
    "                current_uri = playlist['tracks'][i]['track_uri']\n",
    "                next_uri = playlist['tracks'][j]['track_uri']\n",
    "                current_hpcp = HFEATS[current_uri]['hpcp']\n",
    "                next_hpcp = HFEATS[next_uri]['hpcp']\n",
    "                distance_matrix[i,j] = TIV.from_pcp(current_hpcp).small_scale_compatibility(TIV.from_pcp(next_hpcp))\n",
    "                distance_matrix[j,i] = distance_matrix[i,j]\n",
    "    distance_matrix[:, 0] = 0\n",
    "    return distance_matrix"
   ]
  },
  {
   "cell_type": "code",
   "execution_count": 11,
   "id": "61625155",
   "metadata": {},
   "outputs": [],
   "source": [
    "def comp_ph(playlist):\n",
    "    #Harrison & Pearce consonance\n",
    "    distance_matrix = np.full((len(playlist['tracks']), len(playlist['tracks'])), None)\n",
    "    for i, current_song in enumerate(playlist['tracks']):\n",
    "        for j, next_song in enumerate(playlist['tracks']):\n",
    "            if distance_matrix[i,j] is None:\n",
    "                current_uri = playlist['tracks'][i]['track_uri']\n",
    "                next_uri = playlist['tracks'][j]['track_uri']\n",
    "                current_hpcp = HFEATS[current_uri]['hpcp']\n",
    "                next_hpcp = HFEATS[next_uri]['hpcp']\n",
    "                # We take the top-3 pitch classes from each track, rotating in order to match ph algorithm\n",
    "                chord_a = (np.argsort(current_hpcp)[::-1][:3].round()+ 9) % 12\n",
    "                chord_b = (np.argsort(next_hpcp)[::-1][:3].round()+ 9) % 12\n",
    "                # Merge classes in a single chord\n",
    "                mix = np.unique(np.append(chord_a, chord_b))\n",
    "                # Compute chord harmonicity\n",
    "                mlspec = milne_pc_spectrum(mix)\n",
    "                distance_matrix[i,j] = ph_harmon(mlspec)\n",
    "                distance_matrix[j,i] = distance_matrix[i,j] \n",
    "    distance_matrix[:, 0] = 0\n",
    "    return distance_matrix"
   ]
  },
  {
   "cell_type": "markdown",
   "id": "00be59af",
   "metadata": {},
   "source": [
    "# Filter playlists for subjective evaluation"
   ]
  },
  {
   "cell_type": "code",
   "execution_count": 12,
   "id": "115bfcb8",
   "metadata": {},
   "outputs": [],
   "source": [
    "#Pick playlists with large key variability so as methods propose different reorderings\n",
    "j=0\n",
    "topn=10\n",
    "playlist_selection={}\n",
    "for i,playlist in enumerate(playlists):\n",
    "    variability = len(list(set([HFEATS[x['track_uri']]['key'] for x in playlists[playlist]['tracks']][:topn]))) \n",
    "    if variability >= (5):\n",
    "        #if i in z:\n",
    "        playlist_selection[playlist] = playlists[playlist]\n",
    "        playlist_selection[playlist]['tracks'] = playlist_selection[playlist]['tracks'][:topn]"
   ]
  },
  {
   "cell_type": "code",
   "execution_count": 14,
   "id": "dd44764f",
   "metadata": {},
   "outputs": [],
   "source": [
    "#Authentication - without user\n",
    "cid = 'b569f6b9399545fcb0b97e821ac7434f'\n",
    "secret = '' # use your own credentials to Spotify API\n",
    "client_credentials_manager = SpotifyClientCredentials(client_id=cid, client_secret=secret)\n",
    "sp = spotipy.Spotify(client_credentials_manager = client_credentials_manager)"
   ]
  },
  {
   "cell_type": "code",
   "execution_count": 15,
   "id": "9a5cda1f",
   "metadata": {},
   "outputs": [
    {
     "name": "stderr",
     "output_type": "stream",
     "text": [
      " 42%|█████████████████▍                       | 420/991 [06:56<10:54,  1.15s/it]/home/enricguso/kakao/hr-listening-test/tivlib/tiv.py:152: RuntimeWarning: invalid value encountered in true_divide\n",
      "  return TIV(self.energy+tiv2.energy, (self.energy * self.vector + tiv2.energy * tiv2.vector) / (self.energy + tiv2.energy))\n",
      "100%|█████████████████████████████████████████| 991/991 [16:24<00:00,  1.01it/s]\n"
     ]
    }
   ],
   "source": [
    "#Compute optimal TSP paths with dynamic programming\n",
    "result = []\n",
    "for playlist in tqdm(playlist_selection):\n",
    "    d = {}\n",
    "    e = {}\n",
    "    perm, dis = solve_tsp_dynamic_programming(comp_binary(playlist_selection[playlist]))\n",
    "    d['binary'] = {'permutation': perm, 'distance': dis}\n",
    "    perm, dis = solve_tsp_dynamic_programming(comp_circle(playlist_selection[playlist]))\n",
    "    d['circle'] = {'permutation': perm, 'distance': dis}\n",
    "    perm, dis = solve_tsp_dynamic_programming(comp_TIV(playlist_selection[playlist]))\n",
    "    d['tiv'] = {'permutation': perm, 'distance': dis}\n",
    "    perm, dis = solve_tsp_dynamic_programming(comp_ph(playlist_selection[playlist]))\n",
    "    d['ph'] = {'permutation': perm, 'distance': dis}\n",
    "    e['uris'] = [x['track_uri'] for x in playlist_selection[playlist]['tracks']]\n",
    "    \n",
    "    for uri in e['uris']:\n",
    "        if sp.track(uri)['preview_url'] == None:\n",
    "            continue\n",
    "    e['playlist'] = playlist_selection[playlist]\n",
    "    e['options'] = d\n",
    "    result.append(e)"
   ]
  },
  {
   "cell_type": "markdown",
   "id": "2c7cab5a",
   "metadata": {},
   "source": [
    "### Curation for the subjective evaluation"
   ]
  },
  {
   "cell_type": "code",
   "execution_count": 16,
   "id": "646135c5",
   "metadata": {},
   "outputs": [],
   "source": [
    "# We filter out the playlists that have ties between methods\n",
    "filtered_res = []\n",
    "for i, res in enumerate(result):\n",
    "    if len(list(set([str(x['permutation']) for x in list(res['options'].values())]))) == 4:\n",
    "        filtered_res.append(res)\n",
    "\n",
    "#cherry pick some of the playlists so they contain different genres:\n",
    "z = [63, 66, 76, 79, 111, 147, 226, 266, 285, 458, 571, 674]\n",
    "selection = []\n",
    "for idx in z:\n",
    "    selection.append(filtered_res[idx])"
   ]
  },
  {
   "cell_type": "code",
   "execution_count": 17,
   "id": "7ad1ca6a",
   "metadata": {},
   "outputs": [],
   "source": [
    "#Shuffle the dicts, so we shuffle the columns of the eval\n",
    "\n",
    "for select in selection:\n",
    "    select['options']['gt'] = {'permutation': [0,1,2,3,4,5,6,7,8,9], 'distance':np.nan}\n",
    "    key_list = list(select['options'])\n",
    "    random.shuffle(key_list)\n",
    "    d2 = {}\n",
    "    for key in key_list:\n",
    "        d2[key]=select['options'][key]\n",
    "    select['options'] = d2"
   ]
  },
  {
   "cell_type": "code",
   "execution_count": null,
   "id": "c8349f2d",
   "metadata": {},
   "outputs": [],
   "source": [
    "#save the playlists for app/main.py\n",
    "\n",
    "with open('listening_selection_data_10.json', 'w') as f:\n",
    "    json.dump(selection, f, indent=4)"
   ]
  }
 ],
 "metadata": {
  "kernelspec": {
   "display_name": "harmonic",
   "language": "python",
   "name": "harmonic"
  },
  "language_info": {
   "codemirror_mode": {
    "name": "ipython",
    "version": 3
   },
   "file_extension": ".py",
   "mimetype": "text/x-python",
   "name": "python",
   "nbconvert_exporter": "python",
   "pygments_lexer": "ipython3",
   "version": "3.9.1"
  }
 },
 "nbformat": 4,
 "nbformat_minor": 5
}
